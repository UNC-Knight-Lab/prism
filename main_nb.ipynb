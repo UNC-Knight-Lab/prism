{
 "cells": [
  {
   "cell_type": "code",
   "execution_count": 1,
   "metadata": {},
   "outputs": [],
   "source": [
    "from simulation_functions.KMC_functions import SequenceEnsemble\n",
    "from fitting_functions.ODE_solving import PetRAFTKineticFitting\n",
    "import numpy as np\n",
    "from matplotlib import pyplot as plt\n",
    "import matplotlib.colors as mcolors\n",
    "import pandas as pd"
   ]
  },
  {
   "cell_type": "code",
   "execution_count": 2,
   "metadata": {},
   "outputs": [],
   "source": [
    "feed_ratios = np.array([\n",
    "    [17.6, 0., 0.],\n",
    "    [11.3, 0.48, 0.85],\n",
    "    [6.8, 1.15, 1.77],\n",
    "    [7.3, 2.11, 2.58],\n",
    "    [9.8, 4.16, 6.78],\n",
    "    [7.0, 2.71, 5.53],\n",
    "    [19.9, 7.58, 18.48],\n",
    "])\n",
    "\n",
    "r_matrix = np.array([\n",
    "    [1., 1., 1.],\n",
    "    [1., 1., 1.],\n",
    "    [1., 1., 1.]\n",
    "])"
   ]
  },
  {
   "cell_type": "code",
   "execution_count": 5,
   "metadata": {},
   "outputs": [
    {
     "name": "stdout",
     "output_type": "stream",
     "text": [
      "Evaluating 'block' number 1\n"
     ]
    },
    {
     "ename": "KeyboardInterrupt",
     "evalue": "",
     "output_type": "error",
     "traceback": [
      "\u001b[0;31m---------------------------------------------------------------------------\u001b[0m",
      "\u001b[0;31mKeyboardInterrupt\u001b[0m                         Traceback (most recent call last)",
      "Cell \u001b[0;32mIn [5], line 15\u001b[0m\n\u001b[1;32m      5\u001b[0m \u001b[38;5;66;03m# feed_ratios = np.array([[27.08, 0.],\u001b[39;00m\n\u001b[1;32m      6\u001b[0m \u001b[38;5;66;03m#                         [37.41, 7.43],\u001b[39;00m\n\u001b[1;32m      7\u001b[0m \u001b[38;5;66;03m#                         [26.06, 0.19]])\u001b[39;00m\n\u001b[0;32m   (...)\u001b[0m\n\u001b[1;32m     11\u001b[0m \u001b[38;5;66;03m#     [1., 1.]\u001b[39;00m\n\u001b[1;32m     12\u001b[0m \u001b[38;5;66;03m# ])\u001b[39;00m\n\u001b[1;32m     14\u001b[0m seq \u001b[38;5;241m=\u001b[39m SequenceEnsemble(\u001b[38;5;241m500\u001b[39m)\n\u001b[0;32m---> 15\u001b[0m all_seqs \u001b[38;5;241m=\u001b[39m \u001b[43mseq\u001b[49m\u001b[38;5;241;43m.\u001b[39;49m\u001b[43mrun_gradient_copolymer\u001b[49m\u001b[43m(\u001b[49m\u001b[43mfeed_ratios\u001b[49m\u001b[43m,\u001b[49m\u001b[43m \u001b[49m\u001b[38;5;241;43m0.05\u001b[39;49m\u001b[43m,\u001b[49m\u001b[43m \u001b[49m\u001b[43mr_matrix\u001b[49m\u001b[43m)\u001b[49m\n\u001b[1;32m     16\u001b[0m \u001b[38;5;66;03m# all_seqs = seq.run_block_copolymer(feed_ratios, [0.05, 0.02, 0.02], r_matrix)\u001b[39;00m\n\u001b[1;32m     17\u001b[0m \n\u001b[1;32m     18\u001b[0m \u001b[38;5;66;03m# cmap = plt.get_cmap('viridis',5)\u001b[39;00m\n\u001b[1;32m     19\u001b[0m \u001b[38;5;66;03m# bounds = np.linspace(0,3,4)\u001b[39;00m\n\u001b[1;32m     20\u001b[0m \u001b[38;5;66;03m# norm = mcolors.BoundaryNorm(bounds, cmap.N)\u001b[39;00m\n\u001b[1;32m     21\u001b[0m plt\u001b[38;5;241m.\u001b[39mimshow(all_seqs, cmap\u001b[38;5;241m=\u001b[39m\u001b[38;5;124m'\u001b[39m\u001b[38;5;124minferno\u001b[39m\u001b[38;5;124m'\u001b[39m)\n",
      "File \u001b[0;32m~/Documents/GitHub/prism/simulation_functions/KMC_functions.py:370\u001b[0m, in \u001b[0;36mSequenceEnsemble.run_gradient_copolymer\u001b[0;34m(self, feed_ratios, initiator, rate_matrix)\u001b[0m\n\u001b[1;32m    367\u001b[0m \u001b[38;5;28mprint\u001b[39m(\u001b[38;5;124m\"\u001b[39m\u001b[38;5;124mEvaluating \u001b[39m\u001b[38;5;124m'\u001b[39m\u001b[38;5;124mblock\u001b[39m\u001b[38;5;124m'\u001b[39m\u001b[38;5;124m number\u001b[39m\u001b[38;5;124m\"\u001b[39m, block\u001b[38;5;241m+\u001b[39m\u001b[38;5;241m1\u001b[39m)\n\u001b[1;32m    369\u001b[0m \u001b[38;5;28;01mif\u001b[39;00m block \u001b[38;5;241m==\u001b[39m \u001b[38;5;241m0\u001b[39m:\n\u001b[0;32m--> 370\u001b[0m     _, _ \u001b[38;5;241m=\u001b[39m \u001b[38;5;28;43mself\u001b[39;49m\u001b[38;5;241;43m.\u001b[39;49m\u001b[43m_run_first_block\u001b[49m\u001b[43m(\u001b[49m\u001b[43mmmol_feed\u001b[49m\u001b[43m,\u001b[49m\u001b[43m \u001b[49m\u001b[43mnum_monomers\u001b[49m\u001b[43m,\u001b[49m\u001b[43m \u001b[49m\u001b[43minitiator\u001b[49m\u001b[43m,\u001b[49m\u001b[43m \u001b[49m\u001b[43mrate_matrix\u001b[49m\u001b[43m)\u001b[49m\n\u001b[1;32m    371\u001b[0m \u001b[38;5;28;01melse\u001b[39;00m:\n\u001b[1;32m    372\u001b[0m     \u001b[38;5;28mself\u001b[39m\u001b[38;5;241m.\u001b[39m_run_gradient(mmol_feed, rate_matrix, num_monomers)\n",
      "File \u001b[0;32m~/Documents/GitHub/prism/simulation_functions/KMC_functions.py:199\u001b[0m, in \u001b[0;36mSequenceEnsemble._run_first_block\u001b[0;34m(self, mmol_feed, num_monomers, inits, r_matrix)\u001b[0m\n\u001b[1;32m    196\u001b[0m \u001b[38;5;28;01mwhile\u001b[39;00m capped_chains \u001b[38;5;241m<\u001b[39m\u001b[38;5;241m=\u001b[39m \u001b[38;5;241m0.98\u001b[39m\u001b[38;5;241m*\u001b[39m\u001b[38;5;28mself\u001b[39m\u001b[38;5;241m.\u001b[39mn_chains:\n\u001b[1;32m    198\u001b[0m     \u001b[38;5;28;01mwhile\u001b[39;00m (R_mmol \u001b[38;5;241m-\u001b[39m delta) \u001b[38;5;241m>\u001b[39m\u001b[38;5;241m=\u001b[39m \u001b[38;5;241m0\u001b[39m:\n\u001b[0;32m--> 199\u001b[0m         chain \u001b[38;5;241m=\u001b[39m \u001b[38;5;28;43mself\u001b[39;49m\u001b[38;5;241;43m.\u001b[39;49m\u001b[43m_draw_uninitated_chain\u001b[49m\u001b[43m(\u001b[49m\u001b[43m)\u001b[49m\n\u001b[1;32m    200\u001b[0m         \u001b[38;5;28;01mif\u001b[39;00m chain \u001b[38;5;241m==\u001b[39m \u001b[38;5;28;01mFalse\u001b[39;00m:\n\u001b[1;32m    201\u001b[0m             \u001b[38;5;28;01mbreak\u001b[39;00m\n",
      "File \u001b[0;32m~/Documents/GitHub/prism/simulation_functions/KMC_functions.py:57\u001b[0m, in \u001b[0;36mSequenceEnsemble._draw_uninitated_chain\u001b[0;34m(self)\u001b[0m\n\u001b[1;32m     55\u001b[0m     \u001b[38;5;28;01mreturn\u001b[39;00m \u001b[38;5;28;01mFalse\u001b[39;00m\n\u001b[1;32m     56\u001b[0m \u001b[38;5;28;01melse\u001b[39;00m:\n\u001b[0;32m---> 57\u001b[0m     \u001b[38;5;28;01mreturn\u001b[39;00m \u001b[43mrandom\u001b[49m\u001b[38;5;241;43m.\u001b[39;49m\u001b[43mchoice\u001b[49m\u001b[43m(\u001b[49m\u001b[43mindices\u001b[49m\u001b[43m)\u001b[49m\n",
      "\u001b[0;31mKeyboardInterrupt\u001b[0m: "
     ]
    }
   ],
   "source": [
    "import simulation_functions.KMC_functions\n",
    "import importlib\n",
    "importlib.reload(simulation_functions.KMC_functions)\n",
    "from simulation_functions.KMC_functions import SequenceEnsemble\n",
    "# feed_ratios = np.array([[27.08, 0.],\n",
    "#                         [37.41, 7.43],\n",
    "#                         [26.06, 0.19]])\n",
    "\n",
    "# r_matrix = np.array([\n",
    "#     [1., 1.],\n",
    "#     [1., 1.]\n",
    "# ])\n",
    "\n",
    "seq = SequenceEnsemble(500)\n",
    "all_seqs = seq.run_gradient_copolymer(feed_ratios, 0.05, r_matrix)\n",
    "# all_seqs = seq.run_block_copolymer(feed_ratios, [0.05, 0.02, 0.02], r_matrix)\n",
    "\n",
    "# cmap = plt.get_cmap('viridis',5)\n",
    "# bounds = np.linspace(0,3,4)\n",
    "# norm = mcolors.BoundaryNorm(bounds, cmap.N)\n",
    "plt.imshow(all_seqs, cmap='inferno')\n",
    "plt.colorbar()\n",
    "plt.show()"
   ]
  },
  {
   "cell_type": "code",
   "execution_count": 13,
   "metadata": {},
   "outputs": [
    {
     "data": {
      "image/png": "[encoded data removed]",
      "text/plain": [
       "<Figure size 640x480 with 1 Axes>"
      ]
     },
     "metadata": {},
     "output_type": "display_data"
    }
   ],
   "source": [
    "import analysis_functions.sequence_statistics\n",
    "import importlib\n",
    "importlib.reload(analysis_functions.sequence_statistics)\n",
    "from analysis_functions.sequence_statistics import ChainLengthDispersity, MonomerFrequency, ConstructGraph\n",
    "\n",
    "masses = np.array([87.12, 396.53])\n",
    "\n",
    "m = ConstructGraph(all_seqs, 3)\n",
    "# m.get_distribution(masses)\n",
    "m.get_graph()"
   ]
  },
  {
   "cell_type": "code",
   "execution_count": null,
   "metadata": {},
   "outputs": [],
   "source": [
    "peter_data = pd.read_csv('/Users/suprajachittari/Documents/peter/sequence/PDB-4-98_fractions.csv', header=0)\n",
    "bridgette_data = pd.read_csv('/Users/suprajachittari/Documents/peter/sequence/B130_MPAM_DMF.csv', header=0)\n",
    "\n",
    "plt.scatter(peter_data.iloc[:,0], peter_data.iloc[:,1], label=\"Bridgette - by hand\")\n",
    "plt.scatter(bridgette_data.iloc[:,0], bridgette_data.iloc[:,1], label=\"Peter - online\")\n",
    "plt.ylim([0,1])\n",
    "plt.xlabel(\"Total conversion\")\n",
    "plt.ylabel(\"MPAM conversion\")\n",
    "plt.legend()\n",
    "plt.savefig(\"comparison.png\")"
   ]
  },
  {
   "cell_type": "code",
   "execution_count": null,
   "metadata": {},
   "outputs": [],
   "source": [
    "import fitting_functions.ODE_solving\n",
    "import importlib\n",
    "importlib.reload(fitting_functions.ODE_solving)\n",
    "from fitting_functions.ODE_solving import PetRAFTKineticFitting\n",
    "\n",
    "# f = PetRAFTKineticFitting(peter_data, 97.95, 34.29) # for Peter\n",
    "# f = PetRAFTKineticFitting(bridgette_data, 88.1, 31.64) # for Bridgette\n",
    "f = PetRAFTKineticFitting(bridgette_data, 70., 30.) \n",
    "f.test_values(1, 50, 50, 1)\n",
    "# f.display_overlay([1, 2, 1, 10])"
   ]
  },
  {
   "cell_type": "code",
   "execution_count": null,
   "metadata": {},
   "outputs": [],
   "source": [
    "\n",
    "\n"
   ]
  }
 ],
 "metadata": {
  "interpreter": {
   "hash": "aee8b7b246df8f9039afb4144a1f6fd8d2ca17a180786b69acc140d282b71a49"
  },
  "kernelspec": {
   "display_name": "Python 3.9.10 64-bit",
   "language": "python",
   "name": "python3"
  },
  "language_info": {
   "codemirror_mode": {
    "name": "ipython",
    "version": 3
   },
   "file_extension": ".py",
   "mimetype": "text/x-python",
   "name": "python",
   "nbconvert_exporter": "python",
   "pygments_lexer": "ipython3",
   "version": "3.9.10"
  },
  "orig_nbformat": 4
 },
 "nbformat": 4,
 "nbformat_minor": 2
}
