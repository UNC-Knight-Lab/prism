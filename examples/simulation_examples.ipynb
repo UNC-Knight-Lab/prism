{
 "cells": [
  {
   "cell_type": "markdown",
   "id": "e84f32d3",
   "metadata": {},
   "source": [
    "We use a kinetic stochastic simulation strategy to reconstruct ensembles of sequences through the following setup."
   ]
  },
  {
   "cell_type": "code",
   "execution_count": null,
   "id": "e9d3a042",
   "metadata": {},
   "outputs": [],
   "source": [
    "import numpy as np\n",
    "from simulation_functions.KMC_functions import PETRAFTSequenceEnsemble\n",
    "from matplotlib import pyplot as plt\n",
    "\n",
    "# reactivity ratios for the system. The i,j-th element of the matrix corresponds to k_ij rate constant. \n",
    "r_matrix = np.array([\n",
    "    [1.3, 1.],\n",
    "    [1., 0.39]\n",
    "])\n",
    "\n",
    "feed = np.array([76.,80.]) # feed ratios for each monomer\n",
    "conv = np.array([0.99,0.96]) # calculated or target conversion for each monomer\n",
    "\n",
    "seq = PETRAFTSequenceEnsemble(100) # number of sequences to be simulated.\n",
    "\n",
    "# parameters passed in the order of: feed ratio matrix, photocatalyst concentration, rate_matrix concentration, chain-capping rate constant, chain-uncapping rate constant, and target conversion\n",
    "seqs = seq.run_statistical(feed, 0.01, r_matrix, 100, 100, conv) "
   ]
  },
  {
   "cell_type": "markdown",
   "id": "8ce847b2",
   "metadata": {},
   "source": [
    "The return sequence file includes label-encoded sequences. An analogous thermal RAFT simulation is also included: "
   ]
  },
  {
   "cell_type": "code",
   "execution_count": null,
   "id": "ec6ffc65",
   "metadata": {},
   "outputs": [],
   "source": [
    "import numpy as np\n",
    "from simulation_functions.KMC_functions import ThermalRAFTSequenceEnsemble\n",
    "\n",
    "r_matrix = np.array([\n",
    "    [1.3, 1.],\n",
    "    [1., 0.39]\n",
    "])\n",
    "\n",
    "feed = np.array([76.,80.])\n",
    "conv = np.array([0.99,0.96])\n",
    "\n",
    "seq = ThermalRAFTSequenceEnsemble(100)\n",
    "seqs = seq.run_statistical(feed, 0.05, r_matrix, 100, 100, conv) # the only difference is that the second position is occupied by a thermal initiator species"
   ]
  },
  {
   "cell_type": "markdown",
   "id": "7bf0b75e",
   "metadata": {},
   "source": [
    "An abridged simulation, with coupled growth-capping moves are also included by specifying the following keyword:"
   ]
  },
  {
   "cell_type": "code",
   "execution_count": null,
   "id": "ad5f4b91",
   "metadata": {},
   "outputs": [],
   "source": [
    "seqs = seq.run_statistical(feed, 0.05, r_matrix, 100, 100, conv, sim='abridged')"
   ]
  },
  {
   "cell_type": "markdown",
   "id": "17ac4cc8",
   "metadata": {},
   "source": [
    "We also offer additional sequence control metrics through sequence extension / multiblock synthesis or slow monomer addition through the following functions. For multiblock synthesis, the following call will perform multiple simulated polymerizations which the following feed ratios."
   ]
  },
  {
   "cell_type": "code",
   "execution_count": null,
   "id": "d0b0acea",
   "metadata": {},
   "outputs": [],
   "source": [
    "t4_feed = np.array([[10., 20., 0.],\n",
    "                [40., 0., 0.],\n",
    "                [25., 0., 5.]]) # feed ratios for a triblock, three-monomer system. Each row represents 1 reaction.\n",
    "\n",
    "initiator_list = [0.05, 0.02, 0.02]\n",
    "\n",
    "seq = ThermalRAFTSequenceEnsemble(1000)\n",
    "t4 = seq.run_block_copolymer(t4_feed, initiator_list, r_matrix) # call to run a block copolymer\n",
    "t4 = seq.run_gradient_copolymer(t4_feed, initiator_list, r_matrix) # call to run a gradient copolymer"
   ]
  }
 ],
 "metadata": {
  "kernelspec": {
   "display_name": "prism",
   "language": "python",
   "name": "python3"
  },
  "language_info": {
   "name": "python",
   "version": "3.13.2"
  }
 },
 "nbformat": 4,
 "nbformat_minor": 5
}
