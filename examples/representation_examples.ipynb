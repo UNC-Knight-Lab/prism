{
 "cells": [
  {
   "cell_type": "markdown",
   "id": "b5dcad55",
   "metadata": {},
   "source": [
    "A number of different modules are offered to enable analysis of sequences. The function call for each is delineated below along with two representative sample datasets. In line with the representative examples included in the associated manuscript, a statistical copolymer and multiblock copolymer included as sample polymer sequences for each section. Below, we read in sequences of a blocky copolymer:"
   ]
  },
  {
   "cell_type": "code",
   "execution_count": null,
   "id": "17320bf6",
   "metadata": {},
   "outputs": [],
   "source": [
    "import numpy as np\n",
    "blocky = np.loadtxt('sample_data/blocky_copolymer_sequences.csv', delimiter=' ')"
   ]
  },
  {
   "cell_type": "markdown",
   "id": "0d91768c",
   "metadata": {},
   "source": [
    "To generate a monomer frequency plot, use:"
   ]
  },
  {
   "cell_type": "code",
   "execution_count": null,
   "id": "d09ffec0",
   "metadata": {},
   "outputs": [],
   "source": [
    "from analysis_functions.sequence_statistics import MonomerFrequency\n",
    "m = MonomerFrequency(blocky, 2) # the first argument is name of the data variable, the second argument is the number of monomers in the system\n",
    "m.plot_frequency() # show monomer frequency plot"
   ]
  },
  {
   "cell_type": "markdown",
   "id": "bc12d5a2",
   "metadata": {},
   "source": [
    "To generate a adjacency matrix (graph representation), use the following call:"
   ]
  },
  {
   "cell_type": "code",
   "execution_count": null,
   "id": "34e2fe1e",
   "metadata": {},
   "outputs": [],
   "source": [
    "from analysis_functions.kmer_representation import ConstructGraph\n",
    "e = ConstructGraph(blocky, 2) # the first argument is the name of the data variable, the second argument is the number of monomers in the system\n",
    "g = e.get_graph_as_heatmap(num_seq = 1000, segment_size=2) # constrauct the adjacency matrix, passing the number of sequences as the first argument and the desired segment size as the second"
   ]
  },
  {
   "cell_type": "markdown",
   "id": "654c70e6",
   "metadata": {},
   "source": [
    "For global patterning metrics, we have used multiblock copolymers as a sample system. Data for the blocks d1 and d2 shown in the manuscript are included as a sample data."
   ]
  },
  {
   "cell_type": "code",
   "execution_count": null,
   "id": "cc3e2ded",
   "metadata": {},
   "outputs": [],
   "source": [
    "d1 = np.loadtxt('sample_data/d1_sequences.csv', delimiter=' ')\n",
    "d2 = np.loadtxt('sample_data/d2_sequences.csv', delimiter=' ')"
   ]
  },
  {
   "cell_type": "markdown",
   "id": "69c221b2",
   "metadata": {},
   "source": [
    "Pairwise comparison metrics are demonstrated below. First the single monomer comparisons are implemented as follows"
   ]
  },
  {
   "cell_type": "code",
   "execution_count": null,
   "id": "d2233d8f",
   "metadata": {},
   "outputs": [],
   "source": [
    "from analysis_functions.sequence_statistics import EnsembleSimilarity\n",
    "e = EnsembleSimilarity(d1, d2, num_monomers=3) # first two arguments are the sequence ensembles to compare, the third specifies the number of monomers\n",
    "\n",
    "s1, s2, s3 = e.global_difference() # similarity between distributions of all three monomers\n",
    "s = e.global_difference(k=4) # similarity between coarse-grained representation of segment length of k = 4"
   ]
  },
  {
   "cell_type": "markdown",
   "id": "a3abd9ec",
   "metadata": {},
   "source": [
    "Correlation functions are also offered:"
   ]
  },
  {
   "cell_type": "code",
   "execution_count": null,
   "id": "3ae3fe7f",
   "metadata": {},
   "outputs": [],
   "source": [
    "e = EnsembleSimilarity(d1, d2, num_monomers=3)\n",
    "d1_correlation, d2_correlation = e.correlation(3) # this function takes the index of monomer for an autocorrelation function\n",
    "d1, d2 = e.correlation([1,3], corr_type='pair') # the first argument is the indexes of monomers for an pairwise correlation function, then use the 'corr' keyword"
   ]
  },
  {
   "cell_type": "markdown",
   "id": "dbaaa3ea",
   "metadata": {},
   "source": [
    "Finally, chemical patterning can be mapped out as follows:"
   ]
  },
  {
   "cell_type": "code",
   "execution_count": null,
   "id": "4b44346a",
   "metadata": {},
   "outputs": [],
   "source": [
    "m = MonomerFrequency(d1, 3)\n",
    "pattern3 = m.chemical_patterning(features = [-0.4, 4.5, -4.5], method = 'mean') \n",
    "# the feature list is the corresponding chemical features (e.g., hydropathy) for each of the three corresponding monomers."
   ]
  }
 ],
 "metadata": {
  "language_info": {
   "name": "python"
  }
 },
 "nbformat": 4,
 "nbformat_minor": 5
}
