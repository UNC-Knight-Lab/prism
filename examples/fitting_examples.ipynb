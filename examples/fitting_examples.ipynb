{
 "cells": [
  {
   "cell_type": "markdown",
   "id": "e842c2c4",
   "metadata": {},
   "source": [
    "Examplary calls for a 2-monomer fitting are included below. For a PET-RAFT fitting, prepare input Excel files of experimental kinetics of total conversion vs. monomer conversion. Pass the initial feed ratios of each monomer as follows."
   ]
  },
  {
   "cell_type": "code",
   "execution_count": null,
   "id": "041ec230",
   "metadata": {},
   "outputs": [],
   "source": [
    "import pandas as pd\n",
    "from fitting_functions.twomonomer import PetRAFTKineticFitting\n",
    "\n",
    "exp_data = pd.read_excel('sample_data/two_monomer.xlsx') # file path to Excel sheet with experimental data\n",
    "p = PetRAFTKineticFitting(exp_data, 52.3, 98.4) # initial feed ratios of each monomer (e.g., calculated from NMR)\n",
    "rates, convA, convB, tot_conv = p.extract_rates(1., 1.) # guesses for reactivity ratios."
   ]
  },
  {
   "cell_type": "markdown",
   "id": "db025bf6",
   "metadata": {},
   "source": [
    "Successful completion with return four objects: (1) rates, which corresponds to the reactivity ratios, (2) convA, the simulated conversion of monomer A, (3) convB, the simulated conversion of monomer B, and (4) tot_conv, the simulated total conversion. To test out the results of specific reactivity ratios and inform your starting guess, you can use the following function to help visualize overlays."
   ]
  },
  {
   "cell_type": "code",
   "execution_count": null,
   "id": "f6a671b5",
   "metadata": {},
   "outputs": [],
   "source": [
    "p = PetRAFTKineticFitting(exp_data, 52.3, 98.4)\n",
    "Aconv, Bconv, totconv = p.test_values(0.2,5,30)"
   ]
  },
  {
   "cell_type": "markdown",
   "id": "4cbaa494",
   "metadata": {},
   "source": [
    "Analogously, you can use the following functions for the three-monomer case."
   ]
  },
  {
   "cell_type": "code",
   "execution_count": null,
   "id": "cbc63386",
   "metadata": {},
   "outputs": [],
   "source": [
    "import pandas as pd\n",
    "import numpy as np\n",
    "from fitting_functions.threemonomer import ThreeMonomerPETRAFTKineticFitting\n",
    "\n",
    "exp_data = pd.read_excel('sample_data/three_monomer.xlsx') # file path to Excel sheet with experimental data\n",
    "p = ThreeMonomerPETRAFTKineticFitting(exp_data, 41.2, 82.3, 43.1) # initial feed ratios for each monomer\n",
    "bounds = [(0.001,2),(0.001,1),(1,5),(0.001,1),(1,5),(1,5)] # bounds on each reactivity ratio parameter\n",
    "guess_ = np.array([0.9,0.8,2,0.5,2,2]) # initialized guess for reactivity ratios\n",
    "rates, m1, m2, m3, conv = p.extract_rates(20., bounds, guess_) # call for fitting"
   ]
  }
 ],
 "metadata": {
  "kernelspec": {
   "display_name": "prism",
   "language": "python",
   "name": "python3"
  },
  "language_info": {
   "name": "python",
   "version": "3.13.2"
  }
 },
 "nbformat": 4,
 "nbformat_minor": 5
}
